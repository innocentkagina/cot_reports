{
 "cells": [
  {
   "cell_type": "code",
   "execution_count": null,
   "metadata": {},
   "outputs": [],
   "source": [
    "import pandas as pd\n",
    "import seaborn as sns\n",
    "import matplotlib.pyplot as plt\n",
    "import cot_reports as cot\n",
    "\n",
    "\n",
    "# Fetch the COT data for 2024\n",
    "df = cot.cot_year(year=2024, cot_report_type='legacy_fut')"
   ]
  },
  {
   "cell_type": "code",
   "execution_count": null,
   "metadata": {},
   "outputs": [],
   "source": [
    "# Set the display options to landscape orientation\n",
    "pd.set_option('display.width', 1000)\n",
    "pd.set_option('display.max_columns', 20)"
   ]
  },
  {
   "cell_type": "code",
   "execution_count": null,
   "metadata": {},
   "outputs": [],
   "source": [
    "# Extract the gold-related data\n",
    "gold_df = df[df['Market and Exchange Names']=='GOLD - COMMODITY EXCHANGE INC.']\n",
    "\n",
    "# Select the first 10 columns\n",
    "gold_df = gold_df.iloc[:, :10]\n",
    "\n",
    "# Remove columns 3 to 7 (inclusive)\n",
    "gold_df = pd.concat([gold_df.iloc[:, :3], gold_df.iloc[:, 7:]], axis=1)"
   ]
  },
  {
   "cell_type": "code",
   "execution_count": null,
   "metadata": {},
   "outputs": [],
   "source": [
    "# Rename Columns\n",
    "# Noncommercial Positions-Long (All)\n",
    "# Noncommercial Positions-Short (All)\n",
    "# Rename the columns\n",
    "gold_df.rename(columns={'Noncommercial Positions-Long (All)': \"NC Long\", 'Noncommercial Positions-Short (All)': \"NC Short\"}, inplace=True)"
   ]
  },
  {
   "cell_type": "code",
   "execution_count": null,
   "metadata": {},
   "outputs": [],
   "source": [
    "gold_df"
   ]
  },
  {
   "cell_type": "code",
   "execution_count": null,
   "metadata": {},
   "outputs": [],
   "source": [
    "# Calculate the net positions for non-commercial data\n",
    "gold_df['NC Net'] = gold_df['NC Long'] - gold_df['NC Short']\n",
    "\n",
    "# Select the relevant columns\n",
    "gold_df = gold_df[['As of Date in Form YYYY-MM-DD', 'NC Long', 'NC Short', 'NC Net']]"
   ]
  },
  {
   "cell_type": "code",
   "execution_count": null,
   "metadata": {},
   "outputs": [],
   "source": [
    "# Check if the gold_weekly DataFrame is not empty\n",
    "if not gold_weekly.empty:\n",
    "    # Create a line chart\n",
    "    fig, ax = plt.subplots(figsize=(12, 6))\n",
    "    gold_weekly.plot(kind='line', ax=ax)\n",
    "    ax.set_title('Gold COT Non-Commercial Positions')\n",
    "    ax.set_xlabel('Date')\n",
    "    ax.set_ylabel('Positions')\n",
    "    ax.legend(title='Metric', loc='upper left')\n",
    "    plt.tight_layout()\n",
    "    plt.show()\n",
    "else:\n",
    "    print(\"No data available for Gold.\")"
   ]
  },
  {
   "cell_type": "code",
   "execution_count": 82,
   "metadata": {},
   "outputs": [
    {
     "name": "stdout",
     "output_type": "stream",
     "text": [
      "Data exported to 'gold_cot_data.xlsx'.\n"
     ]
    }
   ],
   "source": [
    "# Export the data to an Excel file\n",
    "gold_df.to_excel('gold_cot_data.xlsx', index=False)\n",
    "print(\"Data exported to 'gold_cot_data.xlsx'.\")"
   ]
  }
 ],
 "metadata": {
  "language_info": {
   "name": "python"
  }
 },
 "nbformat": 4,
 "nbformat_minor": 2
}
